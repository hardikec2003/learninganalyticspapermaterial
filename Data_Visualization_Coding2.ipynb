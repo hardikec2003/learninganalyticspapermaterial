{
 "cells": [
  {
   "cell_type": "code",
   "execution_count": 1,
   "id": "b75af08f",
   "metadata": {},
   "outputs": [],
   "source": [
    "import numpy as np\n",
    "import seaborn as sns\n",
    "import pandas as pd\n",
    "import matplotlib.pyplot as plt\n",
    "import matplotlib.colors as colors\n",
    "import matplotlib.cm as cm\n",
    "import pylab\n",
    "from sklearn.preprocessing import MinMaxScaler,StandardScaler\n",
    "from datetime import datetime, timedelta\n",
    "from sklearn.model_selection import train_test_split\n",
    "from sklearn.ensemble import RandomForestRegressor\n",
    "from sklearn import model_selection\n",
    "from sklearn.linear_model import LogisticRegression\n",
    "from sklearn.tree import DecisionTreeClassifier\n",
    "from sklearn.neighbors import KNeighborsClassifier\n",
    "from sklearn.discriminant_analysis import LinearDiscriminantAnalysis\n",
    "from sklearn.naive_bayes import GaussianNB\n",
    "from sklearn.svm import SVC\n",
    "from sklearn.metrics import confusion_matrix, classification_report,f1_score"
   ]
  },
  {
   "cell_type": "code",
   "execution_count": 2,
   "id": "82327d91",
   "metadata": {},
   "outputs": [],
   "source": [
    "df = pd.read_excel('coding2original.xlsx',sheet_name='Sheet1')"
   ]
  },
  {
   "cell_type": "code",
   "execution_count": 3,
   "id": "0b860d46",
   "metadata": {},
   "outputs": [
    {
     "data": {
      "text/html": [
       "<div>\n",
       "<style scoped>\n",
       "    .dataframe tbody tr th:only-of-type {\n",
       "        vertical-align: middle;\n",
       "    }\n",
       "\n",
       "    .dataframe tbody tr th {\n",
       "        vertical-align: top;\n",
       "    }\n",
       "\n",
       "    .dataframe thead th {\n",
       "        text-align: right;\n",
       "    }\n",
       "</style>\n",
       "<table border=\"1\" class=\"dataframe\">\n",
       "  <thead>\n",
       "    <tr style=\"text-align: right;\">\n",
       "      <th></th>\n",
       "      <th>ID</th>\n",
       "      <th>understood</th>\n",
       "      <th>divide</th>\n",
       "      <th>revisit</th>\n",
       "      <th>internet</th>\n",
       "      <th>time</th>\n",
       "      <th>testing</th>\n",
       "      <th>submission</th>\n",
       "      <th>mood</th>\n",
       "      <th>sleep</th>\n",
       "      <th>enthu</th>\n",
       "    </tr>\n",
       "  </thead>\n",
       "  <tbody>\n",
       "    <tr>\n",
       "      <th>0</th>\n",
       "      <td>1</td>\n",
       "      <td>Yes</td>\n",
       "      <td>Yes</td>\n",
       "      <td>Yes</td>\n",
       "      <td>Yes</td>\n",
       "      <td>Less than 15 minutes</td>\n",
       "      <td>Yes</td>\n",
       "      <td>Yes. Complete solution</td>\n",
       "      <td>Good</td>\n",
       "      <td>Yes</td>\n",
       "      <td>Yes</td>\n",
       "    </tr>\n",
       "    <tr>\n",
       "      <th>1</th>\n",
       "      <td>2</td>\n",
       "      <td>No</td>\n",
       "      <td>Yes</td>\n",
       "      <td>Yes</td>\n",
       "      <td>Yes</td>\n",
       "      <td>More than 15 minutes</td>\n",
       "      <td>No</td>\n",
       "      <td>No. Partial solution</td>\n",
       "      <td>Good</td>\n",
       "      <td>Yes</td>\n",
       "      <td>Yes</td>\n",
       "    </tr>\n",
       "    <tr>\n",
       "      <th>2</th>\n",
       "      <td>3</td>\n",
       "      <td>Yes</td>\n",
       "      <td>Yes</td>\n",
       "      <td>Yes</td>\n",
       "      <td>Yes</td>\n",
       "      <td>More than 15 minutes</td>\n",
       "      <td>No</td>\n",
       "      <td>Not submitted at all.</td>\n",
       "      <td>Average</td>\n",
       "      <td>Yes</td>\n",
       "      <td>Yes</td>\n",
       "    </tr>\n",
       "    <tr>\n",
       "      <th>3</th>\n",
       "      <td>4</td>\n",
       "      <td>Yes</td>\n",
       "      <td>Yes</td>\n",
       "      <td>Yes</td>\n",
       "      <td>Yes</td>\n",
       "      <td>More than 15 minutes</td>\n",
       "      <td>Yes</td>\n",
       "      <td>Yes. Complete solution</td>\n",
       "      <td>Excellent</td>\n",
       "      <td>Yes</td>\n",
       "      <td>Yes</td>\n",
       "    </tr>\n",
       "    <tr>\n",
       "      <th>4</th>\n",
       "      <td>5</td>\n",
       "      <td>Yes</td>\n",
       "      <td>Yes</td>\n",
       "      <td>Yes</td>\n",
       "      <td>Yes</td>\n",
       "      <td>More than 15 minutes</td>\n",
       "      <td>Yes</td>\n",
       "      <td>Yes. Complete solution</td>\n",
       "      <td>Good</td>\n",
       "      <td>Yes</td>\n",
       "      <td>Yes</td>\n",
       "    </tr>\n",
       "  </tbody>\n",
       "</table>\n",
       "</div>"
      ],
      "text/plain": [
       "   ID understood divide revisit internet                  time testing  \\\n",
       "0   1        Yes    Yes     Yes      Yes  Less than 15 minutes     Yes   \n",
       "1   2         No    Yes     Yes      Yes  More than 15 minutes      No   \n",
       "2   3        Yes    Yes     Yes      Yes  More than 15 minutes      No   \n",
       "3   4        Yes    Yes     Yes      Yes  More than 15 minutes     Yes   \n",
       "4   5        Yes    Yes     Yes      Yes  More than 15 minutes     Yes   \n",
       "\n",
       "               submission       mood sleep enthu  \n",
       "0  Yes. Complete solution       Good   Yes   Yes  \n",
       "1    No. Partial solution       Good   Yes   Yes  \n",
       "2   Not submitted at all.    Average   Yes   Yes  \n",
       "3  Yes. Complete solution  Excellent   Yes   Yes  \n",
       "4  Yes. Complete solution       Good   Yes   Yes  "
      ]
     },
     "execution_count": 3,
     "metadata": {},
     "output_type": "execute_result"
    }
   ],
   "source": [
    "df.head()"
   ]
  },
  {
   "cell_type": "code",
   "execution_count": 4,
   "id": "ba4c9e64",
   "metadata": {},
   "outputs": [
    {
     "name": "stdout",
     "output_type": "stream",
     "text": [
      "                                ID  understood  divide  revisit  testing  \\\n",
      "internet time                                                              \n",
      "No       Less than 15 minutes   29          29      29       29       29   \n",
      "         More than 15 minutes  120         120     120      120      120   \n",
      "Yes      Less than 15 minutes    8           8       8        8        8   \n",
      "         More than 15 minutes  168         168     168      168      168   \n",
      "\n",
      "                               submission  mood  sleep  enthu  \n",
      "internet time                                                  \n",
      "No       Less than 15 minutes          29    29     29     29  \n",
      "         More than 15 minutes         120   120    120    120  \n",
      "Yes      Less than 15 minutes           8     8      8      8  \n",
      "         More than 15 minutes         168   168    168    168  \n"
     ]
    }
   ],
   "source": [
    "print(df.groupby(['internet','time']).count())"
   ]
  },
  {
   "cell_type": "code",
   "execution_count": 5,
   "id": "fac85cde",
   "metadata": {},
   "outputs": [
    {
     "name": "stdout",
     "output_type": "stream",
     "text": [
      "                                  ID  divide  revisit  internet  testing  \\\n",
      "understood time                                                            \n",
      "No         Less than 15 minutes    2       2        2         2        2   \n",
      "           More than 15 minutes   39      39       39        39       39   \n",
      "Yes        Less than 15 minutes   35      35       35        35       35   \n",
      "           More than 15 minutes  249     249      249       249      249   \n",
      "\n",
      "                                 submission  mood  sleep  enthu  \n",
      "understood time                                                  \n",
      "No         Less than 15 minutes           2     2      2      2  \n",
      "           More than 15 minutes          39    39     39     39  \n",
      "Yes        Less than 15 minutes          35    35     35     35  \n",
      "           More than 15 minutes         249   249    249    249  \n"
     ]
    }
   ],
   "source": [
    "print(df.groupby(['understood','time']).count())"
   ]
  },
  {
   "cell_type": "code",
   "execution_count": 6,
   "id": "1781feae",
   "metadata": {},
   "outputs": [
    {
     "name": "stdout",
     "output_type": "stream",
     "text": [
      "                              ID  understood  revisit  internet  testing  \\\n",
      "divide time                                                                \n",
      "No     Less than 15 minutes    3           3        3         3        3   \n",
      "       More than 15 minutes   59          59       59        59       59   \n",
      "Yes    Less than 15 minutes   34          34       34        34       34   \n",
      "       More than 15 minutes  229         229      229       229      229   \n",
      "\n",
      "                             submission  mood  sleep  enthu  \n",
      "divide time                                                  \n",
      "No     Less than 15 minutes           3     3      3      3  \n",
      "       More than 15 minutes          59    59     59     59  \n",
      "Yes    Less than 15 minutes          34    34     34     34  \n",
      "       More than 15 minutes         229   229    229    229  \n"
     ]
    }
   ],
   "source": [
    "print(df.groupby(['divide','time']).count())"
   ]
  },
  {
   "cell_type": "code",
   "execution_count": 7,
   "id": "233a1fd9",
   "metadata": {},
   "outputs": [
    {
     "name": "stdout",
     "output_type": "stream",
     "text": [
      "                               ID  understood  divide  internet  testing  \\\n",
      "revisit time                                                               \n",
      "No      Less than 15 minutes   20          20      20        20       20   \n",
      "        More than 15 minutes   27          27      27        27       27   \n",
      "Yes     Less than 15 minutes   17          17      17        17       17   \n",
      "        More than 15 minutes  261         261     261       261      261   \n",
      "\n",
      "                              submission  mood  sleep  enthu  \n",
      "revisit time                                                  \n",
      "No      Less than 15 minutes          20    20     20     20  \n",
      "        More than 15 minutes          27    27     27     27  \n",
      "Yes     Less than 15 minutes          17    17     17     17  \n",
      "        More than 15 minutes         261   261    261    261  \n"
     ]
    }
   ],
   "source": [
    "print(df.groupby(['revisit','time']).count())"
   ]
  },
  {
   "cell_type": "code",
   "execution_count": 8,
   "id": "07db6301",
   "metadata": {},
   "outputs": [
    {
     "name": "stdout",
     "output_type": "stream",
     "text": [
      "                               ID  understood  divide  revisit  internet  \\\n",
      "testing time                                                               \n",
      "No      Less than 15 minutes    4           4       4        4         4   \n",
      "        More than 15 minutes   82          82      82       82        82   \n",
      "Yes     Less than 15 minutes   33          33      33       33        33   \n",
      "        More than 15 minutes  206         206     206      206       206   \n",
      "\n",
      "                              submission  mood  sleep  enthu  \n",
      "testing time                                                  \n",
      "No      Less than 15 minutes           4     4      4      4  \n",
      "        More than 15 minutes          82    82     82     82  \n",
      "Yes     Less than 15 minutes          33    33     33     33  \n",
      "        More than 15 minutes         206   206    206    206  \n"
     ]
    }
   ],
   "source": [
    "print(df.groupby(['testing','time']).count())"
   ]
  },
  {
   "cell_type": "code",
   "execution_count": 9,
   "id": "068f17eb",
   "metadata": {},
   "outputs": [
    {
     "name": "stdout",
     "output_type": "stream",
     "text": [
      "                                              ID  understood  divide  revisit  \\\n",
      "submission             time                                                     \n",
      "No. Partial solution   Less than 15 minutes    3           3       3        3   \n",
      "                       More than 15 minutes   62          62      62       62   \n",
      "Not submitted at all.  Less than 15 minutes    1           1       1        1   \n",
      "                       More than 15 minutes    7           7       7        7   \n",
      "Yes. Complete solution Less than 15 minutes   33          33      33       33   \n",
      "                       More than 15 minutes  219         219     219      219   \n",
      "\n",
      "                                             internet  testing  mood  sleep  \\\n",
      "submission             time                                                   \n",
      "No. Partial solution   Less than 15 minutes         3        3     3      3   \n",
      "                       More than 15 minutes        62       62    62     62   \n",
      "Not submitted at all.  Less than 15 minutes         1        1     1      1   \n",
      "                       More than 15 minutes         7        7     7      7   \n",
      "Yes. Complete solution Less than 15 minutes        33       33    33     33   \n",
      "                       More than 15 minutes       219      219   219    219   \n",
      "\n",
      "                                             enthu  \n",
      "submission             time                         \n",
      "No. Partial solution   Less than 15 minutes      3  \n",
      "                       More than 15 minutes     62  \n",
      "Not submitted at all.  Less than 15 minutes      1  \n",
      "                       More than 15 minutes      7  \n",
      "Yes. Complete solution Less than 15 minutes     33  \n",
      "                       More than 15 minutes    219  \n"
     ]
    }
   ],
   "source": [
    "print(df.groupby(['submission','time']).count())"
   ]
  },
  {
   "cell_type": "code",
   "execution_count": null,
   "id": "5d71f208",
   "metadata": {},
   "outputs": [],
   "source": []
  },
  {
   "cell_type": "code",
   "execution_count": 10,
   "id": "931ab8d3",
   "metadata": {},
   "outputs": [
    {
     "name": "stdout",
     "output_type": "stream",
     "text": [
      "                                                       ID  understood  divide  \\\n",
      "internet time                 submission                                        \n",
      "No       Less than 15 minutes No. Partial solution      2           2       2   \n",
      "                              Yes. Complete solution   27          27      27   \n",
      "         More than 15 minutes No. Partial solution     18          18      18   \n",
      "                              Not submitted at all.     4           4       4   \n",
      "                              Yes. Complete solution   98          98      98   \n",
      "Yes      Less than 15 minutes No. Partial solution      1           1       1   \n",
      "                              Not submitted at all.     1           1       1   \n",
      "                              Yes. Complete solution    6           6       6   \n",
      "         More than 15 minutes No. Partial solution     44          44      44   \n",
      "                              Not submitted at all.     3           3       3   \n",
      "                              Yes. Complete solution  121         121     121   \n",
      "\n",
      "                                                      revisit  testing  mood  \\\n",
      "internet time                 submission                                       \n",
      "No       Less than 15 minutes No. Partial solution          2        2     2   \n",
      "                              Yes. Complete solution       27       27    27   \n",
      "         More than 15 minutes No. Partial solution         18       18    18   \n",
      "                              Not submitted at all.         4        4     4   \n",
      "                              Yes. Complete solution       98       98    98   \n",
      "Yes      Less than 15 minutes No. Partial solution          1        1     1   \n",
      "                              Not submitted at all.         1        1     1   \n",
      "                              Yes. Complete solution        6        6     6   \n",
      "         More than 15 minutes No. Partial solution         44       44    44   \n",
      "                              Not submitted at all.         3        3     3   \n",
      "                              Yes. Complete solution      121      121   121   \n",
      "\n",
      "                                                      sleep  enthu  \n",
      "internet time                 submission                            \n",
      "No       Less than 15 minutes No. Partial solution        2      2  \n",
      "                              Yes. Complete solution     27     27  \n",
      "         More than 15 minutes No. Partial solution       18     18  \n",
      "                              Not submitted at all.       4      4  \n",
      "                              Yes. Complete solution     98     98  \n",
      "Yes      Less than 15 minutes No. Partial solution        1      1  \n",
      "                              Not submitted at all.       1      1  \n",
      "                              Yes. Complete solution      6      6  \n",
      "         More than 15 minutes No. Partial solution       44     44  \n",
      "                              Not submitted at all.       3      3  \n",
      "                              Yes. Complete solution    121    121  \n"
     ]
    }
   ],
   "source": [
    "print(df.groupby(['internet','time','submission']).count())"
   ]
  },
  {
   "cell_type": "code",
   "execution_count": 11,
   "id": "2a446f0e",
   "metadata": {},
   "outputs": [
    {
     "name": "stdout",
     "output_type": "stream",
     "text": [
      "                                    ID  divide  revisit  internet  time  \\\n",
      "understood submission                                                     \n",
      "No         No. Partial solution     23      23       23        23    23   \n",
      "           Not submitted at all.     2       2        2         2     2   \n",
      "           Yes. Complete solution   16      16       16        16    16   \n",
      "Yes        No. Partial solution     42      42       42        42    42   \n",
      "           Not submitted at all.     6       6        6         6     6   \n",
      "           Yes. Complete solution  236     236      236       236   236   \n",
      "\n",
      "                                   testing  mood  sleep  enthu  \n",
      "understood submission                                           \n",
      "No         No. Partial solution         23    23     23     23  \n",
      "           Not submitted at all.         2     2      2      2  \n",
      "           Yes. Complete solution       16    16     16     16  \n",
      "Yes        No. Partial solution         42    42     42     42  \n",
      "           Not submitted at all.         6     6      6      6  \n",
      "           Yes. Complete solution      236   236    236    236  \n"
     ]
    }
   ],
   "source": [
    "print(df.groupby(['understood','submission']).count())"
   ]
  },
  {
   "cell_type": "code",
   "execution_count": 12,
   "id": "5bf08c34",
   "metadata": {},
   "outputs": [
    {
     "name": "stdout",
     "output_type": "stream",
     "text": [
      "                                ID  understood  revisit  internet  time  \\\n",
      "divide submission                                                         \n",
      "No     No. Partial solution     32          32       32        32    32   \n",
      "       Not submitted at all.     1           1        1         1     1   \n",
      "       Yes. Complete solution   29          29       29        29    29   \n",
      "Yes    No. Partial solution     33          33       33        33    33   \n",
      "       Not submitted at all.     7           7        7         7     7   \n",
      "       Yes. Complete solution  223         223      223       223   223   \n",
      "\n",
      "                               testing  mood  sleep  enthu  \n",
      "divide submission                                           \n",
      "No     No. Partial solution         32    32     32     32  \n",
      "       Not submitted at all.         1     1      1      1  \n",
      "       Yes. Complete solution       29    29     29     29  \n",
      "Yes    No. Partial solution         33    33     33     33  \n",
      "       Not submitted at all.         7     7      7      7  \n",
      "       Yes. Complete solution      223   223    223    223  \n"
     ]
    }
   ],
   "source": [
    "print(df.groupby(['divide','submission']).count())"
   ]
  },
  {
   "cell_type": "code",
   "execution_count": 13,
   "id": "0346309b",
   "metadata": {},
   "outputs": [
    {
     "name": "stdout",
     "output_type": "stream",
     "text": [
      "                                 ID  understood  divide  internet  time  \\\n",
      "revisit submission                                                        \n",
      "No      No. Partial solution      6           6       6         6     6   \n",
      "        Not submitted at all.     1           1       1         1     1   \n",
      "        Yes. Complete solution   40          40      40        40    40   \n",
      "Yes     No. Partial solution     59          59      59        59    59   \n",
      "        Not submitted at all.     7           7       7         7     7   \n",
      "        Yes. Complete solution  212         212     212       212   212   \n",
      "\n",
      "                                testing  mood  sleep  enthu  \n",
      "revisit submission                                           \n",
      "No      No. Partial solution          6     6      6      6  \n",
      "        Not submitted at all.         1     1      1      1  \n",
      "        Yes. Complete solution       40    40     40     40  \n",
      "Yes     No. Partial solution         59    59     59     59  \n",
      "        Not submitted at all.         7     7      7      7  \n",
      "        Yes. Complete solution      212   212    212    212  \n"
     ]
    }
   ],
   "source": [
    "print(df.groupby(['revisit','submission']).count())"
   ]
  },
  {
   "cell_type": "code",
   "execution_count": 14,
   "id": "f040d65e",
   "metadata": {},
   "outputs": [
    {
     "name": "stdout",
     "output_type": "stream",
     "text": [
      "                                  ID  understood  divide  revisit  time  \\\n",
      "internet submission                                                       \n",
      "No       No. Partial solution     20          20      20       20    20   \n",
      "         Not submitted at all.     4           4       4        4     4   \n",
      "         Yes. Complete solution  125         125     125      125   125   \n",
      "Yes      No. Partial solution     45          45      45       45    45   \n",
      "         Not submitted at all.     4           4       4        4     4   \n",
      "         Yes. Complete solution  127         127     127      127   127   \n",
      "\n",
      "                                 testing  mood  sleep  enthu  \n",
      "internet submission                                           \n",
      "No       No. Partial solution         20    20     20     20  \n",
      "         Not submitted at all.         4     4      4      4  \n",
      "         Yes. Complete solution      125   125    125    125  \n",
      "Yes      No. Partial solution         45    45     45     45  \n",
      "         Not submitted at all.         4     4      4      4  \n",
      "         Yes. Complete solution      127   127    127    127  \n"
     ]
    }
   ],
   "source": [
    "print(df.groupby(['internet','submission']).count())"
   ]
  },
  {
   "cell_type": "code",
   "execution_count": 15,
   "id": "d1092e6b",
   "metadata": {},
   "outputs": [
    {
     "name": "stdout",
     "output_type": "stream",
     "text": [
      "                                 ID  understood  divide  revisit  internet  \\\n",
      "testing submission                                                           \n",
      "No      No. Partial solution     44          44      44       44        44   \n",
      "        Not submitted at all.     4           4       4        4         4   \n",
      "        Yes. Complete solution   38          38      38       38        38   \n",
      "Yes     No. Partial solution     21          21      21       21        21   \n",
      "        Not submitted at all.     4           4       4        4         4   \n",
      "        Yes. Complete solution  214         214     214      214       214   \n",
      "\n",
      "                                time  mood  sleep  enthu  \n",
      "testing submission                                        \n",
      "No      No. Partial solution      44    44     44     44  \n",
      "        Not submitted at all.      4     4      4      4  \n",
      "        Yes. Complete solution    38    38     38     38  \n",
      "Yes     No. Partial solution      21    21     21     21  \n",
      "        Not submitted at all.      4     4      4      4  \n",
      "        Yes. Complete solution   214   214    214    214  \n"
     ]
    }
   ],
   "source": [
    "print(df.groupby(['testing','submission']).count())"
   ]
  },
  {
   "cell_type": "code",
   "execution_count": 17,
   "id": "015d041a",
   "metadata": {},
   "outputs": [
    {
     "name": "stdout",
     "output_type": "stream",
     "text": [
      "                                                                                                              ID\n",
      "understood divide revisit internet testing submission             time                 mood      sleep enthu    \n",
      "No         No     Yes     No       No      No. Partial solution   Less than 15 minutes Good      No    Yes     1\n",
      "                                                                  More than 15 minutes Good      Yes   No      1\n",
      "                                           Yes. Complete solution More than 15 minutes Average   No    No      1\n",
      "                                   Yes     No. Partial solution   More than 15 minutes Good      Yes   Yes     1\n",
      "                                           Yes. Complete solution More than 15 minutes Average   Yes   Yes     1\n",
      "...                                                                                                           ..\n",
      "Yes        Yes    Yes     Yes      Yes     Yes. Complete solution More than 15 minutes Excellent Yes   Yes    15\n",
      "                                                                                       Good      No    Yes     6\n",
      "                                                                                                 Yes   No      3\n",
      "                                                                                                       Yes    34\n",
      "                                                                                       Poor      No    Yes     2\n",
      "\n",
      "[126 rows x 1 columns]\n"
     ]
    }
   ],
   "source": [
    "df1 = df.groupby(['understood','divide','revisit','internet','testing','submission','time','mood','sleep','enthu']).count()\n",
    "print(df1)"
   ]
  },
  {
   "cell_type": "code",
   "execution_count": 18,
   "id": "8bb3b9c9",
   "metadata": {},
   "outputs": [],
   "source": [
    "df1.to_excel('table_codingassignmetn2.xlsx')"
   ]
  },
  {
   "cell_type": "code",
   "execution_count": null,
   "id": "9ac30a33",
   "metadata": {},
   "outputs": [],
   "source": []
  }
 ],
 "metadata": {
  "kernelspec": {
   "display_name": "Python 3",
   "language": "python",
   "name": "python3"
  },
  "language_info": {
   "codemirror_mode": {
    "name": "ipython",
    "version": 3
   },
   "file_extension": ".py",
   "mimetype": "text/x-python",
   "name": "python",
   "nbconvert_exporter": "python",
   "pygments_lexer": "ipython3",
   "version": "3.8.8"
  }
 },
 "nbformat": 4,
 "nbformat_minor": 5
}
