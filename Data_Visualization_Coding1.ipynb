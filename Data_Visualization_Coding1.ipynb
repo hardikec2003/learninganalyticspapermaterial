{
 "cells": [
  {
   "cell_type": "code",
   "execution_count": 1,
   "id": "b75af08f",
   "metadata": {},
   "outputs": [],
   "source": [
    "import numpy as np\n",
    "import seaborn as sns\n",
    "import pandas as pd\n",
    "import matplotlib.pyplot as plt\n",
    "import matplotlib.colors as colors\n",
    "import matplotlib.cm as cm\n",
    "import pylab\n",
    "from sklearn.preprocessing import MinMaxScaler,StandardScaler\n",
    "from datetime import datetime, timedelta\n",
    "from sklearn.model_selection import train_test_split\n",
    "from sklearn.ensemble import RandomForestRegressor\n",
    "from sklearn import model_selection\n",
    "from sklearn.linear_model import LogisticRegression\n",
    "from sklearn.tree import DecisionTreeClassifier\n",
    "from sklearn.neighbors import KNeighborsClassifier\n",
    "from sklearn.discriminant_analysis import LinearDiscriminantAnalysis\n",
    "from sklearn.naive_bayes import GaussianNB\n",
    "from sklearn.svm import SVC\n",
    "from sklearn.metrics import confusion_matrix, classification_report,f1_score"
   ]
  },
  {
   "cell_type": "code",
   "execution_count": 2,
   "id": "82327d91",
   "metadata": {},
   "outputs": [],
   "source": [
    "df = pd.read_excel('coding1original.xlsx',sheet_name='Sheet1')"
   ]
  },
  {
   "cell_type": "code",
   "execution_count": 3,
   "id": "0b860d46",
   "metadata": {},
   "outputs": [
    {
     "data": {
      "text/html": [
       "<div>\n",
       "<style scoped>\n",
       "    .dataframe tbody tr th:only-of-type {\n",
       "        vertical-align: middle;\n",
       "    }\n",
       "\n",
       "    .dataframe tbody tr th {\n",
       "        vertical-align: top;\n",
       "    }\n",
       "\n",
       "    .dataframe thead th {\n",
       "        text-align: right;\n",
       "    }\n",
       "</style>\n",
       "<table border=\"1\" class=\"dataframe\">\n",
       "  <thead>\n",
       "    <tr style=\"text-align: right;\">\n",
       "      <th></th>\n",
       "      <th>ID</th>\n",
       "      <th>understood</th>\n",
       "      <th>divide</th>\n",
       "      <th>revisit</th>\n",
       "      <th>internet</th>\n",
       "      <th>time</th>\n",
       "      <th>testing</th>\n",
       "      <th>submission</th>\n",
       "    </tr>\n",
       "  </thead>\n",
       "  <tbody>\n",
       "    <tr>\n",
       "      <th>0</th>\n",
       "      <td>1</td>\n",
       "      <td>Yes</td>\n",
       "      <td>Yes</td>\n",
       "      <td>No</td>\n",
       "      <td>No</td>\n",
       "      <td>Less than 15 minutes</td>\n",
       "      <td>Yes</td>\n",
       "      <td>Yes. Complete solution</td>\n",
       "    </tr>\n",
       "    <tr>\n",
       "      <th>1</th>\n",
       "      <td>2</td>\n",
       "      <td>Yes</td>\n",
       "      <td>Yes</td>\n",
       "      <td>Yes</td>\n",
       "      <td>No</td>\n",
       "      <td>Less than 15 minutes</td>\n",
       "      <td>Yes</td>\n",
       "      <td>Yes. Complete solution</td>\n",
       "    </tr>\n",
       "    <tr>\n",
       "      <th>2</th>\n",
       "      <td>3</td>\n",
       "      <td>Yes</td>\n",
       "      <td>Yes</td>\n",
       "      <td>No</td>\n",
       "      <td>No</td>\n",
       "      <td>Less than 15 minutes</td>\n",
       "      <td>Yes</td>\n",
       "      <td>Yes. Complete solution</td>\n",
       "    </tr>\n",
       "    <tr>\n",
       "      <th>3</th>\n",
       "      <td>4</td>\n",
       "      <td>Yes</td>\n",
       "      <td>No</td>\n",
       "      <td>No</td>\n",
       "      <td>No</td>\n",
       "      <td>Less than 15 minutes</td>\n",
       "      <td>Yes</td>\n",
       "      <td>Yes. Complete solution</td>\n",
       "    </tr>\n",
       "    <tr>\n",
       "      <th>4</th>\n",
       "      <td>5</td>\n",
       "      <td>Yes</td>\n",
       "      <td>Yes</td>\n",
       "      <td>No</td>\n",
       "      <td>Yes</td>\n",
       "      <td>More than 15 minutes</td>\n",
       "      <td>Yes</td>\n",
       "      <td>Yes. Complete solution</td>\n",
       "    </tr>\n",
       "  </tbody>\n",
       "</table>\n",
       "</div>"
      ],
      "text/plain": [
       "   ID understood divide revisit internet                  time testing  \\\n",
       "0   1        Yes    Yes      No       No  Less than 15 minutes     Yes   \n",
       "1   2        Yes    Yes     Yes       No  Less than 15 minutes     Yes   \n",
       "2   3        Yes    Yes      No       No  Less than 15 minutes     Yes   \n",
       "3   4        Yes     No      No       No  Less than 15 minutes     Yes   \n",
       "4   5        Yes    Yes      No      Yes  More than 15 minutes     Yes   \n",
       "\n",
       "               submission  \n",
       "0  Yes. Complete solution  \n",
       "1  Yes. Complete solution  \n",
       "2  Yes. Complete solution  \n",
       "3  Yes. Complete solution  \n",
       "4  Yes. Complete solution  "
      ]
     },
     "execution_count": 3,
     "metadata": {},
     "output_type": "execute_result"
    }
   ],
   "source": [
    "df.head()"
   ]
  },
  {
   "cell_type": "code",
   "execution_count": 4,
   "id": "ba4c9e64",
   "metadata": {},
   "outputs": [
    {
     "name": "stdout",
     "output_type": "stream",
     "text": [
      "                               ID  understood  divide  revisit  testing  \\\n",
      "internet time                                                             \n",
      "No       Less than 15 minutes  79          79      79       79       79   \n",
      "         More than 15 minutes  43          43      43       43       43   \n",
      "Yes      Less than 15 minutes  33          33      33       33       33   \n",
      "         More than 15 minutes  74          74      74       74       74   \n",
      "\n",
      "                               submission  \n",
      "internet time                              \n",
      "No       Less than 15 minutes          79  \n",
      "         More than 15 minutes          43  \n",
      "Yes      Less than 15 minutes          33  \n",
      "         More than 15 minutes          74  \n"
     ]
    }
   ],
   "source": [
    "print(df.groupby(['internet','time']).count())"
   ]
  },
  {
   "cell_type": "code",
   "execution_count": 5,
   "id": "fac85cde",
   "metadata": {},
   "outputs": [
    {
     "name": "stdout",
     "output_type": "stream",
     "text": [
      "                                  ID  divide  revisit  internet  testing  \\\n",
      "understood time                                                            \n",
      "No         More than 15 minutes    7       7        7         7        7   \n",
      "Yes        Less than 15 minutes  112     112      112       112      112   \n",
      "           More than 15 minutes  110     110      110       110      110   \n",
      "\n",
      "                                 submission  \n",
      "understood time                              \n",
      "No         More than 15 minutes           7  \n",
      "Yes        Less than 15 minutes         112  \n",
      "           More than 15 minutes         110  \n"
     ]
    }
   ],
   "source": [
    "print(df.groupby(['understood','time']).count())"
   ]
  },
  {
   "cell_type": "code",
   "execution_count": 6,
   "id": "1781feae",
   "metadata": {},
   "outputs": [
    {
     "name": "stdout",
     "output_type": "stream",
     "text": [
      "                             ID  understood  revisit  internet  testing  \\\n",
      "divide time                                                               \n",
      "No     Less than 15 minutes  22          22       22        22       22   \n",
      "       More than 15 minutes  31          31       31        31       31   \n",
      "Yes    Less than 15 minutes  90          90       90        90       90   \n",
      "       More than 15 minutes  86          86       86        86       86   \n",
      "\n",
      "                             submission  \n",
      "divide time                              \n",
      "No     Less than 15 minutes          22  \n",
      "       More than 15 minutes          31  \n",
      "Yes    Less than 15 minutes          90  \n",
      "       More than 15 minutes          86  \n"
     ]
    }
   ],
   "source": [
    "print(df.groupby(['divide','time']).count())"
   ]
  },
  {
   "cell_type": "code",
   "execution_count": 7,
   "id": "233a1fd9",
   "metadata": {},
   "outputs": [
    {
     "name": "stdout",
     "output_type": "stream",
     "text": [
      "                              ID  understood  divide  internet  testing  \\\n",
      "revisit time                                                              \n",
      "No      Less than 15 minutes  60          60      60        60       60   \n",
      "        More than 15 minutes  18          18      18        18       18   \n",
      "Yes     Less than 15 minutes  52          52      52        52       52   \n",
      "        More than 15 minutes  99          99      99        99       99   \n",
      "\n",
      "                              submission  \n",
      "revisit time                              \n",
      "No      Less than 15 minutes          60  \n",
      "        More than 15 minutes          18  \n",
      "Yes     Less than 15 minutes          52  \n",
      "        More than 15 minutes          99  \n"
     ]
    }
   ],
   "source": [
    "print(df.groupby(['revisit','time']).count())"
   ]
  },
  {
   "cell_type": "code",
   "execution_count": 8,
   "id": "07db6301",
   "metadata": {},
   "outputs": [
    {
     "name": "stdout",
     "output_type": "stream",
     "text": [
      "                               ID  understood  divide  revisit  internet  \\\n",
      "testing time                                                               \n",
      "No      Less than 15 minutes    7           7       7        7         7   \n",
      "        More than 15 minutes   27          27      27       27        27   \n",
      "Yes     Less than 15 minutes  105         105     105      105       105   \n",
      "        More than 15 minutes   90          90      90       90        90   \n",
      "\n",
      "                              submission  \n",
      "testing time                              \n",
      "No      Less than 15 minutes           7  \n",
      "        More than 15 minutes          27  \n",
      "Yes     Less than 15 minutes         105  \n",
      "        More than 15 minutes          90  \n"
     ]
    }
   ],
   "source": [
    "print(df.groupby(['testing','time']).count())"
   ]
  },
  {
   "cell_type": "code",
   "execution_count": 9,
   "id": "068f17eb",
   "metadata": {},
   "outputs": [
    {
     "name": "stdout",
     "output_type": "stream",
     "text": [
      "                                              ID  understood  divide  revisit  \\\n",
      "submission             time                                                     \n",
      "No. Partial solution   More than 15 minutes   16          16      16       16   \n",
      "Not submitted at all.  More than 15 minutes    6           6       6        6   \n",
      "Yes. Complete solution Less than 15 minutes  112         112     112      112   \n",
      "                       More than 15 minutes   95          95      95       95   \n",
      "\n",
      "                                             internet  testing  \n",
      "submission             time                                     \n",
      "No. Partial solution   More than 15 minutes        16       16  \n",
      "Not submitted at all.  More than 15 minutes         6        6  \n",
      "Yes. Complete solution Less than 15 minutes       112      112  \n",
      "                       More than 15 minutes        95       95  \n"
     ]
    }
   ],
   "source": [
    "print(df.groupby(['submission','time']).count())"
   ]
  },
  {
   "cell_type": "code",
   "execution_count": 10,
   "id": "931ab8d3",
   "metadata": {},
   "outputs": [
    {
     "name": "stdout",
     "output_type": "stream",
     "text": [
      "                                                      ID  understood  divide  \\\n",
      "internet time                 submission                                       \n",
      "No       Less than 15 minutes Yes. Complete solution  79          79      79   \n",
      "         More than 15 minutes No. Partial solution     6           6       6   \n",
      "                              Not submitted at all.    1           1       1   \n",
      "                              Yes. Complete solution  36          36      36   \n",
      "Yes      Less than 15 minutes Yes. Complete solution  33          33      33   \n",
      "         More than 15 minutes No. Partial solution    10          10      10   \n",
      "                              Not submitted at all.    5           5       5   \n",
      "                              Yes. Complete solution  59          59      59   \n",
      "\n",
      "                                                      revisit  testing  \n",
      "internet time                 submission                                \n",
      "No       Less than 15 minutes Yes. Complete solution       79       79  \n",
      "         More than 15 minutes No. Partial solution          6        6  \n",
      "                              Not submitted at all.         1        1  \n",
      "                              Yes. Complete solution       36       36  \n",
      "Yes      Less than 15 minutes Yes. Complete solution       33       33  \n",
      "         More than 15 minutes No. Partial solution         10       10  \n",
      "                              Not submitted at all.         5        5  \n",
      "                              Yes. Complete solution       59       59  \n"
     ]
    }
   ],
   "source": [
    "print(df.groupby(['internet','time','submission']).count())"
   ]
  },
  {
   "cell_type": "code",
   "execution_count": 11,
   "id": "2a446f0e",
   "metadata": {},
   "outputs": [
    {
     "name": "stdout",
     "output_type": "stream",
     "text": [
      "                                    ID  divide  revisit  internet  time  \\\n",
      "understood submission                                                     \n",
      "No         No. Partial solution      3       3        3         3     3   \n",
      "           Not submitted at all.     2       2        2         2     2   \n",
      "           Yes. Complete solution    2       2        2         2     2   \n",
      "Yes        No. Partial solution     13      13       13        13    13   \n",
      "           Not submitted at all.     4       4        4         4     4   \n",
      "           Yes. Complete solution  205     205      205       205   205   \n",
      "\n",
      "                                   testing  \n",
      "understood submission                       \n",
      "No         No. Partial solution          3  \n",
      "           Not submitted at all.         2  \n",
      "           Yes. Complete solution        2  \n",
      "Yes        No. Partial solution         13  \n",
      "           Not submitted at all.         4  \n",
      "           Yes. Complete solution      205  \n"
     ]
    }
   ],
   "source": [
    "print(df.groupby(['understood','submission']).count())"
   ]
  },
  {
   "cell_type": "code",
   "execution_count": 12,
   "id": "5bf08c34",
   "metadata": {},
   "outputs": [
    {
     "name": "stdout",
     "output_type": "stream",
     "text": [
      "                                ID  understood  revisit  internet  time  \\\n",
      "divide submission                                                         \n",
      "No     No. Partial solution      5           5        5         5     5   \n",
      "       Not submitted at all.     3           3        3         3     3   \n",
      "       Yes. Complete solution   45          45       45        45    45   \n",
      "Yes    No. Partial solution     11          11       11        11    11   \n",
      "       Not submitted at all.     3           3        3         3     3   \n",
      "       Yes. Complete solution  162         162      162       162   162   \n",
      "\n",
      "                               testing  \n",
      "divide submission                       \n",
      "No     No. Partial solution          5  \n",
      "       Not submitted at all.         3  \n",
      "       Yes. Complete solution       45  \n",
      "Yes    No. Partial solution         11  \n",
      "       Not submitted at all.         3  \n",
      "       Yes. Complete solution      162  \n"
     ]
    }
   ],
   "source": [
    "print(df.groupby(['divide','submission']).count())"
   ]
  },
  {
   "cell_type": "code",
   "execution_count": 13,
   "id": "0346309b",
   "metadata": {},
   "outputs": [
    {
     "name": "stdout",
     "output_type": "stream",
     "text": [
      "                                 ID  understood  divide  internet  time  \\\n",
      "revisit submission                                                        \n",
      "No      No. Partial solution      1           1       1         1     1   \n",
      "        Not submitted at all.     2           2       2         2     2   \n",
      "        Yes. Complete solution   75          75      75        75    75   \n",
      "Yes     No. Partial solution     15          15      15        15    15   \n",
      "        Not submitted at all.     4           4       4         4     4   \n",
      "        Yes. Complete solution  132         132     132       132   132   \n",
      "\n",
      "                                testing  \n",
      "revisit submission                       \n",
      "No      No. Partial solution          1  \n",
      "        Not submitted at all.         2  \n",
      "        Yes. Complete solution       75  \n",
      "Yes     No. Partial solution         15  \n",
      "        Not submitted at all.         4  \n",
      "        Yes. Complete solution      132  \n"
     ]
    }
   ],
   "source": [
    "print(df.groupby(['revisit','submission']).count())"
   ]
  },
  {
   "cell_type": "code",
   "execution_count": 14,
   "id": "f040d65e",
   "metadata": {},
   "outputs": [
    {
     "name": "stdout",
     "output_type": "stream",
     "text": [
      "                                  ID  understood  divide  revisit  time  \\\n",
      "internet submission                                                       \n",
      "No       No. Partial solution      6           6       6        6     6   \n",
      "         Not submitted at all.     1           1       1        1     1   \n",
      "         Yes. Complete solution  115         115     115      115   115   \n",
      "Yes      No. Partial solution     10          10      10       10    10   \n",
      "         Not submitted at all.     5           5       5        5     5   \n",
      "         Yes. Complete solution   92          92      92       92    92   \n",
      "\n",
      "                                 testing  \n",
      "internet submission                       \n",
      "No       No. Partial solution          6  \n",
      "         Not submitted at all.         1  \n",
      "         Yes. Complete solution      115  \n",
      "Yes      No. Partial solution         10  \n",
      "         Not submitted at all.         5  \n",
      "         Yes. Complete solution       92  \n"
     ]
    }
   ],
   "source": [
    "print(df.groupby(['internet','submission']).count())"
   ]
  },
  {
   "cell_type": "code",
   "execution_count": 15,
   "id": "d1092e6b",
   "metadata": {},
   "outputs": [
    {
     "name": "stdout",
     "output_type": "stream",
     "text": [
      "                                 ID  understood  divide  revisit  internet  \\\n",
      "testing submission                                                           \n",
      "No      No. Partial solution      5           5       5        5         5   \n",
      "        Not submitted at all.     3           3       3        3         3   \n",
      "        Yes. Complete solution   26          26      26       26        26   \n",
      "Yes     No. Partial solution     11          11      11       11        11   \n",
      "        Not submitted at all.     3           3       3        3         3   \n",
      "        Yes. Complete solution  181         181     181      181       181   \n",
      "\n",
      "                                time  \n",
      "testing submission                    \n",
      "No      No. Partial solution       5  \n",
      "        Not submitted at all.      3  \n",
      "        Yes. Complete solution    26  \n",
      "Yes     No. Partial solution      11  \n",
      "        Not submitted at all.      3  \n",
      "        Yes. Complete solution   181  \n"
     ]
    }
   ],
   "source": [
    "print(df.groupby(['testing','submission']).count())"
   ]
  },
  {
   "cell_type": "code",
   "execution_count": 16,
   "id": "015d041a",
   "metadata": {},
   "outputs": [
    {
     "name": "stdout",
     "output_type": "stream",
     "text": [
      "                                                                                        ID\n",
      "understood divide revisit internet testing submission             time                    \n",
      "No         No     Yes     Yes      No      Not submitted at all.  More than 15 minutes   1\n",
      "                                   Yes     No. Partial solution   More than 15 minutes   1\n",
      "                                           Not submitted at all.  More than 15 minutes   1\n",
      "           Yes    Yes     No       No      Yes. Complete solution More than 15 minutes   1\n",
      "                                   Yes     No. Partial solution   More than 15 minutes   1\n",
      "                          Yes      Yes     No. Partial solution   More than 15 minutes   1\n",
      "                                           Yes. Complete solution More than 15 minutes   1\n",
      "Yes        No     No      No       No      Yes. Complete solution Less than 15 minutes   1\n",
      "                                   Yes     Yes. Complete solution Less than 15 minutes  11\n",
      "                                                                  More than 15 minutes   2\n",
      "                          Yes      No      Yes. Complete solution Less than 15 minutes   1\n",
      "                                   Yes     Not submitted at all.  More than 15 minutes   1\n",
      "                                           Yes. Complete solution Less than 15 minutes   3\n",
      "                                                                  More than 15 minutes   1\n",
      "                  Yes     No       No      No. Partial solution   More than 15 minutes   1\n",
      "                                           Yes. Complete solution More than 15 minutes   1\n",
      "                                   Yes     No. Partial solution   More than 15 minutes   1\n",
      "                                           Yes. Complete solution Less than 15 minutes   2\n",
      "                                                                  More than 15 minutes   5\n",
      "                          Yes      No      Yes. Complete solution More than 15 minutes   5\n",
      "                                   Yes     No. Partial solution   More than 15 minutes   2\n",
      "                                           Yes. Complete solution Less than 15 minutes   4\n",
      "                                                                  More than 15 minutes   9\n",
      "           Yes    No      No       No      Not submitted at all.  More than 15 minutes   1\n",
      "                                           Yes. Complete solution More than 15 minutes   1\n",
      "                                   Yes     Yes. Complete solution Less than 15 minutes  32\n",
      "                                                                  More than 15 minutes   5\n",
      "                          Yes      No      Yes. Complete solution Less than 15 minutes   1\n",
      "                                                                  More than 15 minutes   3\n",
      "                                   Yes     No. Partial solution   More than 15 minutes   1\n",
      "                                           Yes. Complete solution Less than 15 minutes  11\n",
      "                                                                  More than 15 minutes   3\n",
      "                  Yes     No       No      No. Partial solution   More than 15 minutes   1\n",
      "                                           Yes. Complete solution Less than 15 minutes   1\n",
      "                                                                  More than 15 minutes   3\n",
      "                                   Yes     No. Partial solution   More than 15 minutes   2\n",
      "                                           Yes. Complete solution Less than 15 minutes  32\n",
      "                                                                  More than 15 minutes  18\n",
      "                          Yes      No      No. Partial solution   More than 15 minutes   3\n",
      "                                           Not submitted at all.  More than 15 minutes   1\n",
      "                                           Yes. Complete solution Less than 15 minutes   3\n",
      "                                                                  More than 15 minutes   5\n",
      "                                   Yes     No. Partial solution   More than 15 minutes   2\n",
      "                                           Not submitted at all.  More than 15 minutes   1\n",
      "                                           Yes. Complete solution Less than 15 minutes  10\n",
      "                                                                  More than 15 minutes  32\n"
     ]
    }
   ],
   "source": [
    "df1 = df.groupby(['understood','divide','revisit','internet','testing','submission','time']).count()\n",
    "print(df1)"
   ]
  },
  {
   "cell_type": "code",
   "execution_count": 19,
   "id": "1c35ba6e",
   "metadata": {},
   "outputs": [],
   "source": [
    "df1.to_excel('table_codingassignmetn1.xlsx')"
   ]
  },
  {
   "cell_type": "code",
   "execution_count": null,
   "id": "0b420b87",
   "metadata": {},
   "outputs": [],
   "source": []
  }
 ],
 "metadata": {
  "kernelspec": {
   "display_name": "Python 3",
   "language": "python",
   "name": "python3"
  },
  "language_info": {
   "codemirror_mode": {
    "name": "ipython",
    "version": 3
   },
   "file_extension": ".py",
   "mimetype": "text/x-python",
   "name": "python",
   "nbconvert_exporter": "python",
   "pygments_lexer": "ipython3",
   "version": "3.8.8"
  }
 },
 "nbformat": 4,
 "nbformat_minor": 5
}
